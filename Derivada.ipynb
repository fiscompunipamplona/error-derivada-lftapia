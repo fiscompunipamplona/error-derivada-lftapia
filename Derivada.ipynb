{
 "cells": [
  {
   "cell_type": "markdown",
   "metadata": {},
   "source": [
    "# Derivada para un $\\delta=1x10^{-2}$"
   ]
  },
  {
   "cell_type": "code",
   "execution_count": 5,
   "metadata": {},
   "outputs": [
    {
     "name": "stdout",
     "output_type": "stream",
     "text": [
      "Delta: 0.01 \n",
      "Valor de la derivada: 1.010000000000001\n",
      "El valor analítico es de 1\n",
      "Error porcentual: 1.0000000000000897 %\n"
     ]
    }
   ],
   "source": [
    "from math import*\n",
    "from pylab import*\n",
    "from numpy import*\n",
    "\n",
    "x=1\n",
    "t=1e-2\n",
    "der=((x+1e-2)*((x+1e-2)-1))/(t)\n",
    "print(\"Delta:\",t, \"\\nValor de la derivada:\",der)\n",
    "Error=abs(1-der)*100\n",
    "print(\"El valor analítico es de 1\")\n",
    "print(\"Error porcentual:\",Error, \"%\")"
   ]
  },
  {
   "cell_type": "markdown",
   "metadata": {},
   "source": [
    "# Calculo de la deriva con delta $\\delta=1x10^{-2}$ hasta $\\delta=1x10^{-14}$"
   ]
  },
  {
   "cell_type": "code",
   "execution_count": 2,
   "metadata": {},
   "outputs": [
    {
     "name": "stdout",
     "output_type": "stream",
     "text": [
      "\n",
      "Delta variable: 0.01 \n",
      "Valor de la derivada: 1.010000000000001 \n",
      "Error porcentual: 1.0000000000000897 %\n",
      "\n",
      "Delta variable: 0.0001 \n",
      "Valor de la derivada: 1.0000999999998899 \n",
      "Error porcentual: 0.009999999988985486 %\n",
      "\n",
      "Delta variable: 1e-06 \n",
      "Valor de la derivada: 1.0000009999177333 \n",
      "Error porcentual: 9.99917733279787e-05 %\n",
      "\n",
      "Delta variable: 1e-08 \n",
      "Valor de la derivada: 1.0000000039225287 \n",
      "Error porcentual: 3.9225287462585356e-07 %\n",
      "\n",
      "Delta variable: 1e-10 \n",
      "Valor de la derivada: 1.000000082840371 \n",
      "Error porcentual: 8.284037100736441e-06 %\n",
      "\n",
      "Delta variable: 1e-12 \n",
      "Valor de la derivada: 1.0000889005833413 \n",
      "Error porcentual: 0.008890058334132256 %\n",
      "\n",
      "Delta variable: 1e-14 \n",
      "Valor de la derivada: 0.9992007221626509 \n",
      "Error porcentual: 0.07992778373491216 %\n"
     ]
    }
   ],
   "source": [
    "from math import*\n",
    "from pylab import*\n",
    "from numpy import*\n",
    "x=1\n",
    "c=[]\n",
    "for j in range(2, 16, 2):\n",
    "    t=10**-j\n",
    "    c.append(t)\n",
    "for i in c:\n",
    "    der=((x+i)*((x+i)-1))/(i)\n",
    "    errorpor=abs(1-der)*100\n",
    "    print(\"\\nDelta variable:\",i , \"\\nValor de la derivada:\",der, \"\\nError porcentual:\", errorpor,\"%\")"
   ]
  },
  {
   "cell_type": "markdown",
   "metadata": {},
   "source": [
    "Como podemos apreciar debido al analisis matematico realizado anterior. concluimos que el error disminuye cuando  el $\\delta>1x10^{-10}$ Esto es debido aque el $\\delta$ es más pequeño."
   ]
  },
  {
   "cell_type": "code",
   "execution_count": null,
   "metadata": {},
   "outputs": [],
   "source": []
  }
 ],
 "metadata": {
  "kernelspec": {
   "display_name": "Python 3",
   "language": "python",
   "name": "python3"
  },
  "language_info": {
   "codemirror_mode": {
    "name": "ipython",
    "version": 3
   },
   "file_extension": ".py",
   "mimetype": "text/x-python",
   "name": "python",
   "nbconvert_exporter": "python",
   "pygments_lexer": "ipython3",
   "version": "3.5.2"
  }
 },
 "nbformat": 4,
 "nbformat_minor": 2
}
